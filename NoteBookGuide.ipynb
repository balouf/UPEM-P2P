{
 "cells": [
  {
   "cell_type": "markdown",
   "metadata": {
    "toc": "true"
   },
   "source": [
    "# Table of Contents\n",
    " <p><div class=\"lev1 toc-item\"><a href=\"#Installing-Jupyter-NoteBook\" data-toc-modified-id=\"Installing-Jupyter-NoteBook-1\"><span class=\"toc-item-num\">1&nbsp;&nbsp;</span>Installing Jupyter NoteBook</a></div><div class=\"lev1 toc-item\"><a href=\"#Running-Jupyter\" data-toc-modified-id=\"Running-Jupyter-2\"><span class=\"toc-item-num\">2&nbsp;&nbsp;</span>Running Jupyter</a></div><div class=\"lev2 toc-item\"><a href=\"#Remote-Usage\" data-toc-modified-id=\"Remote-Usage-2.1\"><span class=\"toc-item-num\">2.1&nbsp;&nbsp;</span>Remote Usage</a></div><div class=\"lev2 toc-item\"><a href=\"#Shutting-down-Jupyter\" data-toc-modified-id=\"Shutting-down-Jupyter-2.2\"><span class=\"toc-item-num\">2.2&nbsp;&nbsp;</span>Shutting down Jupyter</a></div><div class=\"lev1 toc-item\"><a href=\"#Additional-features\" data-toc-modified-id=\"Additional-features-3\"><span class=\"toc-item-num\">3&nbsp;&nbsp;</span>Additional features</a></div><div class=\"lev2 toc-item\"><a href=\"#NBExtensions\" data-toc-modified-id=\"NBExtensions-3.1\"><span class=\"toc-item-num\">3.1&nbsp;&nbsp;</span>NBExtensions</a></div><div class=\"lev2 toc-item\"><a href=\"#RISE\" data-toc-modified-id=\"RISE-3.2\"><span class=\"toc-item-num\">3.2&nbsp;&nbsp;</span>RISE</a></div><div class=\"lev2 toc-item\"><a href=\"#Julia-Magic\" data-toc-modified-id=\"Julia-Magic-3.3\"><span class=\"toc-item-num\">3.3&nbsp;&nbsp;</span>Julia Magic</a></div><div class=\"lev2 toc-item\"><a href=\"#Tikz-Magic\" data-toc-modified-id=\"Tikz-Magic-3.4\"><span class=\"toc-item-num\">3.4&nbsp;&nbsp;</span>Tikz Magic</a></div><div class=\"lev2 toc-item\"><a href=\"#Youtube-embedding\" data-toc-modified-id=\"Youtube-embedding-3.5\"><span class=\"toc-item-num\">3.5&nbsp;&nbsp;</span>Youtube embedding</a></div><div class=\"lev1 toc-item\"><a href=\"#Using-RISE\" data-toc-modified-id=\"Using-RISE-4\"><span class=\"toc-item-num\">4&nbsp;&nbsp;</span>Using RISE</a></div><div class=\"lev2 toc-item\"><a href=\"#Shortcuts\" data-toc-modified-id=\"Shortcuts-4.1\"><span class=\"toc-item-num\">4.1&nbsp;&nbsp;</span>Shortcuts</a></div><div class=\"lev2 toc-item\"><a href=\"#Configuration\" data-toc-modified-id=\"Configuration-4.2\"><span class=\"toc-item-num\">4.2&nbsp;&nbsp;</span>Configuration</a></div><div class=\"lev2 toc-item\"><a href=\"#Exporting-to-HTML\" data-toc-modified-id=\"Exporting-to-HTML-4.3\"><span class=\"toc-item-num\">4.3&nbsp;&nbsp;</span>Exporting to HTML</a></div>"
   ]
  },
  {
   "cell_type": "markdown",
   "metadata": {},
   "source": [
    "# Installing Jupyter NoteBook "
   ]
  },
  {
   "cell_type": "markdown",
   "metadata": {},
   "source": [
    "To run a Jupyter NoteBook, you need a state of the art Python distribution. Anaconda is highly recommended, as:\n",
    "- Jupyter is installed by default\n",
    "- Package are easy to install (even on Windows ;) )\n",
    "- Update are simple as **conda update --all**\n",
    "\n",
    "If you prefer not to use Anaconda, it is fine, but you are on your own."
   ]
  },
  {
   "cell_type": "markdown",
   "metadata": {},
   "source": [
    "# Running Jupyter"
   ]
  },
  {
   "cell_type": "markdown",
   "metadata": {},
   "source": [
    "After Anaconda is installed, open a terminal in a directory that will act as root for your notebooks, type **jupyter notebook**, and *voilà*!\n",
    "\n",
    "jupyter will open a Webserver on *localhost:8888* (if 8888 is busy, it will try 8889, 8890, ...), and open a new web page on your default browser.\n",
    "\n",
    "There is a good help embedded in Jupyter, no need to duplicate it here. Just a tip: begin with the shortcuts help, it also explains the two modes of Jupyter."
   ]
  },
  {
   "cell_type": "markdown",
   "metadata": {},
   "source": [
    "## Remote Usage\n",
    "\n",
    "For security reasons, the NoteBook will only accept connexions from *localhost*, and it is probably something you don't want to change. So if you want to use Jupyter on a remote server:\n",
    "- Log with ssh to your server while doing port forwarding: **ssh -L 666:localhost:8888 mylogin@myserver**\n",
    "- Type **jupyter notebook --no-browser** on your server (you don't want the server to open a local browser)\n",
    "- Access Jupyter browser by taping **http://localhost:666** on you local browser."
   ]
  },
  {
   "cell_type": "markdown",
   "metadata": {},
   "source": [
    "## Shutting down Jupyter\n",
    "\n",
    "Whenever you want to shut down a notebook, you should click *file -> Close & Halt* in order to kill the underlying kernel as well, otherwise you'll end up with kernel zombies everywhere.\n",
    "\n",
    "If you want to stop the whole Jupyter thing, (Ctr+C)^2 in the terminal from where you typed **jupyter notebook** while the Web server and related kernels. You should try to avoid having too many Jupyter Webserver running at the same type, because they will only differ by port and this can be really confusing very quickly."
   ]
  },
  {
   "cell_type": "markdown",
   "metadata": {},
   "source": [
    "# Additional features"
   ]
  },
  {
   "cell_type": "markdown",
   "metadata": {},
   "source": [
    "The following packages are very useful:"
   ]
  },
  {
   "cell_type": "markdown",
   "metadata": {},
   "source": [
    "## NBExtensions "
   ]
  },
  {
   "cell_type": "markdown",
   "metadata": {},
   "source": [
    "A set of very useful plugins. With them, you can:\n",
    "- Display a table of content\n",
    "- Hide the input of a cell to only show the output (great for presentations)\n",
    "- Measure the execution time\n",
    "- Call a scratchpad to try and run simple lines of code\n",
    "- Check your speling \n",
    "\n",
    "Installation:\n",
    "**conda install -c conda-forge jupyter_contrib_nbextensions**\n",
    "\n",
    "Access to the configuration menu:\n",
    "- From the Edit menu when on a NoteBook\n",
    "- A tab in the Jupyter Home Browser\n",
    "- http://localhost:8888/nbextensions"
   ]
  },
  {
   "cell_type": "markdown",
   "metadata": {},
   "source": [
    "## RISE "
   ]
  },
  {
   "cell_type": "markdown",
   "metadata": {},
   "source": [
    "**THE** plugin you want to make presentations.\n",
    "\n",
    "Installation: **conda install -c damianavila82 rise**\n",
    "\n",
    "Usage:\n",
    "- Display the Slideshow tagger (View -> Cell Toolbar -> Slideshow)\n",
    "- Tag your cells (Skip, Slide, Subslide, Fragment, Note, -)\n",
    "- Alt+R to switch to slide mode\n",
    "- Advanced description below"
   ]
  },
  {
   "cell_type": "markdown",
   "metadata": {},
   "source": [
    "## Julia Magic"
   ]
  },
  {
   "cell_type": "markdown",
   "metadata": {},
   "source": [
    "Julia comes with its own kernel for Jupyter, IJulia, so if you want to do a full notebook in Julia, just start a Julia notebook.\n",
    "\n",
    "If you want to execute a Julia cell inside a Python notebook (assuming you've already installed Julia), you need to enable a Julia magic.\n",
    "1. Find the file (conda Lib?)**/site-packages/IPython/core/magics/script.py** in your Anaconda tree\n",
    "2. Look for\n",
    "defaults = [\n",
    "    'sh',\n",
    "    'bash',\n",
    "    'perl',\n",
    "    'ruby',\n",
    "    'python',\n",
    "    'python2',\n",
    "    'python3',\n",
    "    'pypy',\n",
    "]\n",
    "3. Add julia\n",
    "defaults = [\n",
    "    'sh',\n",
    "    'bash',\n",
    "    'perl',\n",
    "    'ruby',\n",
    "    'python',\n",
    "    'python2',\n",
    "    'python3',\n",
    "    'pypy',\n",
    "    'julia',\n",
    "] "
   ]
  },
  {
   "cell_type": "code",
   "execution_count": 1,
   "metadata": {
    "ExecuteTime": {
     "end_time": "2016-10-20T16:38:27.689462",
     "start_time": "2016-10-20T16:38:13.088870"
    },
    "collapsed": false
   },
   "outputs": [
    {
     "name": "stdout",
     "output_type": "stream",
     "text": [
      "Julia says the result is 42 !\n"
     ]
    }
   ],
   "source": [
    "%%julia\n",
    "begin\n",
    "    result = 0\n",
    "    for i = 3:9\n",
    "        result += i\n",
    "    end\n",
    "    println(\"Julia says the result is $result !\")\n",
    "end"
   ]
  },
  {
   "cell_type": "markdown",
   "metadata": {},
   "source": [
    "## Tikz Magic "
   ]
  },
  {
   "cell_type": "markdown",
   "metadata": {},
   "source": [
    "You need a recent TeX distribution and ImageMagick installed. On Windows, MikTeX and Cygwin are OK.\n",
    "\n",
    "Then you need to retrieve a **tikzmagic.py** from some GitHub (several variants exist, I don't remember where I got mine) and put it in **~/.ipython/extensions/**\n",
    "\n",
    "Windows users have a bonus track:\n",
    "1. Go to the Cygwin **bin** directory and copy of **convert.exe** as **imgconvert.exe**\n",
    "2. Add the Cygwin **bin** directory to the path if it not already the case. Note that you need to restart the whole Jupyter server for the added path to be effective (no need to restart the computer, though)."
   ]
  },
  {
   "cell_type": "code",
   "execution_count": 2,
   "metadata": {
    "ExecuteTime": {
     "end_time": "2016-10-20T16:39:08.332483",
     "start_time": "2016-10-20T16:39:06.884977"
    },
    "collapsed": false
   },
   "outputs": [],
   "source": [
    "%load_ext tikzmagic"
   ]
  },
  {
   "cell_type": "markdown",
   "metadata": {},
   "source": [
    "Let draw a Watts-Strogatz ring"
   ]
  },
  {
   "cell_type": "code",
   "execution_count": 3,
   "metadata": {
    "ExecuteTime": {
     "end_time": "2016-10-20T16:39:47.307185",
     "start_time": "2016-10-20T16:39:12.180761"
    },
    "collapsed": false
   },
   "outputs": [
    {
     "data": {
      "image/png": "[encoded data removed]"
     },
     "metadata": {},
     "output_type": "display_data"
    }
   ],
   "source": [
    "%%tikz -l calc --scale 4 --size 600,300\n",
    "\\tikzset{every node/.style={scale=4}}\n",
    "\\foreach \\an in {0,...,19}\n",
    "{\n",
    "\\draw let\n",
    "\\n1={int(mod(\\an+1,20))},\n",
    "\\n2={int(mod(\\an+2,20))}\n",
    "in \n",
    "(18*\\an:2) node[circle, fill, scale = .6]{}\n",
    "edge (18*\\n1:2)\n",
    "edge[bend left = 60] (18*\\n2:2);\n",
    "\n",
    "\\pgfmathtruncatemacro{\\nun}{ifthenelse(mod(\\an+2,9),int(mod(\\an+1,20)),int(mod(\\an+8,20)))}%\n",
    "\\pgfmathtruncatemacro{\\ndeux}{ifthenelse(mod(\\an,13),int(mod(\\an+2,20)),int(mod(\\an+5,20)))}%\n",
    "\\draw\n",
    "(5,0) +(18*\\an:2) node[circle, fill, scale = .6]{}\n",
    "edge +(18*\\nun:2)\n",
    "edge[bend left = 60] +(18*\\ndeux:2);\n",
    "\n",
    "\\draw let\n",
    "\\n1={int(mod(\\an * \\an,20))},\n",
    "\\n2={int(mod(\\an * \\an * \\an,20))}\n",
    "in \n",
    "(10,0) +(18*\\an:2) node[circle, fill, scale = .6]{}\n",
    "edge +(18*\\n1:2)\n",
    "edge[bend left = 10] +(18*\\n2:2);\n",
    "}\n",
    "\n",
    "\\draw (0,2.5) node {Regular}\n",
    "++(5,0) node {Small-World?}\n",
    "++(5,0) node {Random};\n",
    "\\node (p1) at (0,-2.5) {$ p = 0 $};\n",
    "\\node (p2) at (10,-2.5) {$ p = 1 $};\n",
    "\\draw (p1) edge[->,>=latex,thick] node[below] {Chaos} (p2);"
   ]
  },
  {
   "cell_type": "markdown",
   "metadata": {},
   "source": [
    "## Youtube embedding\n",
    "\n",
    "To embed a YouTube video, I use the following HTML magic:"
   ]
  },
  {
   "cell_type": "code",
   "execution_count": 4,
   "metadata": {
    "ExecuteTime": {
     "end_time": "2016-10-20T16:39:56.105579",
     "start_time": "2016-10-20T16:39:56.061526"
    },
    "collapsed": false
   },
   "outputs": [
    {
     "data": {
      "text/html": [
       "<iframe width=\"560\" height=\"315\" src=\"https://www.youtube.com/embed/aboZctrHfK8\" frameborder=\"0\" allowfullscreen></iframe>"
      ],
      "text/plain": [
       "<IPython.core.display.HTML object>"
      ]
     },
     "metadata": {},
     "output_type": "display_data"
    }
   ],
   "source": [
    "%%HTML\n",
    "<iframe width=\"560\" height=\"315\" src=\"https://www.youtube.com/embed/aboZctrHfK8\" frameborder=\"0\" allowfullscreen></iframe>"
   ]
  },
  {
   "cell_type": "markdown",
   "metadata": {},
   "source": [
    "# Using RISE "
   ]
  },
  {
   "cell_type": "markdown",
   "metadata": {},
   "source": [
    "## Shortcuts\n",
    "\n",
    "Rise has his note specific shortcuts\n",
    "- w to zoom out into the presentation structure\n",
    "- left and right will go through slides, not subslides. If you want to follow the stream, use (shift)-space\n",
    "- , to make the help disappear\n",
    "- . to go black\n",
    "- shift-enter is disabled for display reasons."
   ]
  },
  {
   "cell_type": "markdown",
   "metadata": {},
   "source": [
    "## Configuration"
   ]
  },
  {
   "cell_type": "markdown",
   "metadata": {},
   "source": [
    "The reveal presentation is configured with a set of options, like in the following\n",
    "- 'width': 1024,\n",
    "- 'height': 768,\n",
    "- 'scroll': True,\n",
    "- 'theme': 'Blood', (Black (default) - White - League - Sky - Beige - Simple - Serif - Blood - Night - Moon - Solarized)\n",
    "- 'transition': 'Concave', (None - Fade - Slide - Convex - Concave - Zoom)\n",
    "- 'slideNumber': False,\n",
    "- 'start_slideshow_at': 'selected',\n",
    "\n",
    "See https://github.com/hakimel/reveal.js#configuration for details.\n",
    "\n",
    "For these options to be applied, they can be set up in a dedicated **custom.css** file or via the notebook metadata (Edit-> notebook metadata). I prefer the latter.\n",
    "This is the typical entry for my RISE notebooks:\n",
    "\n",
    " \"livereveal\": {\n",
    "    \"width\": \"100%\",\n",
    "    \"height\": \"100%\",\n",
    "    \"start_slideshow_at\": \"selected\",\n",
    "    \"transition\": \"slide\",\n",
    "    \"margin\": 0,\n",
    "    \"theme\": \"sky\"\n",
    "  },\n",
    "\n",
    "Also see the parameters I use in my Rise2HTML NoteBook."
   ]
  },
  {
   "cell_type": "markdown",
   "metadata": {},
   "source": [
    "last but not least, the following cell is useful to add a logo and center the outputs."
   ]
  },
  {
   "cell_type": "code",
   "execution_count": 5,
   "metadata": {
    "ExecuteTime": {
     "end_time": "2016-10-20T16:40:11.982953",
     "start_time": "2016-10-20T16:40:11.973948"
    },
    "collapsed": false
   },
   "outputs": [
    {
     "data": {
      "text/html": [
       "<style>\n",
       ".output_png {\n",
       "    display: table-cell;\n",
       "    text-align: center;\n",
       "    vertical-align: middle;\n",
       "}\n",
       "\n",
       "body:after {\n",
       "background-image: url('lincs.png');\n",
       "background-size: 200px 100px;\n",
       "position: fixed;\n",
       "bottom: 1em;\n",
       "right: 8em;\n",
       "width: 200px; \n",
       "height: 100px;\n",
       "content:\"\";\n",
       "}\n",
       "</style> "
      ],
      "text/plain": [
       "<IPython.core.display.HTML object>"
      ]
     },
     "metadata": {},
     "output_type": "display_data"
    }
   ],
   "source": [
    "%%HTML\n",
    "<style>\n",
    ".output_png {\n",
    "    display: table-cell;\n",
    "    text-align: center;\n",
    "    vertical-align: middle;\n",
    "}\n",
    "\n",
    "body:after {\n",
    "background-image: url('lincs.png');\n",
    "background-size: 200px 100px;\n",
    "position: fixed;\n",
    "bottom: 1em;\n",
    "right: 8em;\n",
    "width: 200px; \n",
    "height: 100px;\n",
    "content:\"\";\n",
    "}\n",
    "</style> "
   ]
  },
  {
   "cell_type": "markdown",
   "metadata": {},
   "source": [
    "## Exporting to HTML"
   ]
  },
  {
   "cell_type": "markdown",
   "metadata": {},
   "source": [
    "Exporting to HTML requires to use the **jupyter nbconvert** with some customization. I wrote a **Rise2HTML** notebook to explain and automatize the conversion process. It is really badly written, and the base64 embedding currently only works for windows. Ideally someone should try to propose a simple extension such that all this would be available via the nbextensions menu."
   ]
  }
 ],
 "metadata": {
  "anaconda-cloud": {},
  "kernelspec": {
   "display_name": "Python [default]",
   "language": "python",
   "name": "python3"
  },
  "language_info": {
   "codemirror_mode": {
    "name": "ipython",
    "version": 3
   },
   "file_extension": ".py",
   "mimetype": "text/x-python",
   "name": "python",
   "nbconvert_exporter": "python",
   "pygments_lexer": "ipython3",
   "version": "3.5.2"
  },
  "nav_menu": {},
  "toc": {
   "navigate_menu": true,
   "number_sections": false,
   "sideBar": true,
   "threshold": 6,
   "toc_cell": true,
   "toc_section_display": "block",
   "toc_window_display": true
  }
 },
 "nbformat": 4,
 "nbformat_minor": 1
}

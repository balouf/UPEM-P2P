{
 "cells": [
  {
   "cell_type": "markdown",
   "metadata": {
    "toc": "true"
   },
   "source": [
    "# Table of Contents\n",
    " <p><div class=\"lev1 toc-item\"><a href=\"#INF-674:-Python-in-an-Eggshell\" data-toc-modified-id=\"INF-674:-Python-in-an-Eggshell-1\"><span class=\"toc-item-num\">1&nbsp;&nbsp;</span>INF 674: Python in an Eggshell</a></div><div class=\"lev2 toc-item\"><a href=\"#Céline-Comte-&amp;-Fabien-Mathieu\" data-toc-modified-id=\"Céline-Comte-&amp;-Fabien-Mathieu-1.1\"><span class=\"toc-item-num\">1.1&nbsp;&nbsp;</span>Céline Comte &amp; Fabien Mathieu</a></div><div class=\"lev3 toc-item\"><a href=\"#2016-2017\" data-toc-modified-id=\"2016-2017-1.1.1\"><span class=\"toc-item-num\">1.1.1&nbsp;&nbsp;</span>2016-2017</a></div><div class=\"lev1 toc-item\"><a href=\"#1.-IDEs\" data-toc-modified-id=\"1.-IDEs-2\"><span class=\"toc-item-num\">2&nbsp;&nbsp;</span>1. IDEs</a></div><div class=\"lev2 toc-item\"><a href=\"#1.1-Spyder-interface\" data-toc-modified-id=\"1.1-Spyder-interface-2.1\"><span class=\"toc-item-num\">2.1&nbsp;&nbsp;</span>1.1 Spyder interface</a></div><div class=\"lev2 toc-item\"><a href=\"#1.2-Jupyter\" data-toc-modified-id=\"1.2-Jupyter-2.2\"><span class=\"toc-item-num\">2.2&nbsp;&nbsp;</span>1.2 Jupyter</a></div><div class=\"lev1 toc-item\"><a href=\"#2.-Basic-usage\" data-toc-modified-id=\"2.-Basic-usage-3\"><span class=\"toc-item-num\">3&nbsp;&nbsp;</span>2. Basic usage</a></div><div class=\"lev1 toc-item\"><a href=\"#3.-Modules\" data-toc-modified-id=\"3.-Modules-4\"><span class=\"toc-item-num\">4&nbsp;&nbsp;</span>3. Modules</a></div><div class=\"lev1 toc-item\"><a href=\"#4.-A-few-more-tips\" data-toc-modified-id=\"4.-A-few-more-tips-5\"><span class=\"toc-item-num\">5&nbsp;&nbsp;</span>4. A few more tips</a></div><div class=\"lev2 toc-item\"><a href=\"#4.1-Import-or-DIY?\" data-toc-modified-id=\"4.1-Import-or-DIY?-5.1\"><span class=\"toc-item-num\">5.1&nbsp;&nbsp;</span>4.1 Import or DIY?</a></div><div class=\"lev2 toc-item\"><a href=\"#4.2-Avoid-loops-if-you-can\" data-toc-modified-id=\"4.2-Avoid-loops-if-you-can-5.2\"><span class=\"toc-item-num\">5.2&nbsp;&nbsp;</span>4.2 Avoid loops if you can</a></div><div class=\"lev2 toc-item\"><a href=\"#4.3-Reference-passing\" data-toc-modified-id=\"4.3-Reference-passing-5.3\"><span class=\"toc-item-num\">5.3&nbsp;&nbsp;</span>4.3 Reference passing</a></div>"
   ]
  },
  {
   "cell_type": "markdown",
   "metadata": {},
   "source": [
    "# INF 674: Python in an Eggshell\n",
    "\n",
    "## Céline Comte & Fabien Mathieu\n",
    "\n",
    "### 2016-2017\n",
    "\n",
    "Within Inf674, we will try to benchmark theoretical results against numerical values. Note that there are two popular, non-compatible, Python branches (2.x and 3.x).  We will use here Python 3. No strong developing skill is required besides defining a function. If you don't know anything about Python, try one of the numerous online tutorials that should bring you up to speed in an hour or less.\n",
    "\n",
    "Just in case, a small survival kit is provided below."
   ]
  },
  {
   "cell_type": "markdown",
   "metadata": {},
   "source": [
    "# 1. IDEs"
   ]
  },
  {
   "cell_type": "markdown",
   "metadata": {},
   "source": [
    "There are multiple ways to code Python: VI, Emacs, Eclipse... During the first session, we tried Spyder, but it seems it may not be adapted to people that are not used to Python. Therefore in the sequel we'll switch to jupyter notebook."
   ]
  },
  {
   "cell_type": "markdown",
   "metadata": {},
   "source": [
    "\n",
    "## 1.1 Spyder interface"
   ]
  },
  {
   "cell_type": "markdown",
   "metadata": {},
   "source": [
    "You are free to use any interface you are comfortable with. If you just begin with Python, Spyder is a nice IDE to start with Python. Spyder has three main ways of evaluating Python expressions.\n",
    "* Use the console (lower right). You can use the console to evaluate simple expressions (**1+1**, **print(\"Toto\")**). Useful to low level debugging (check the value of a variable, the validity of an expression...). Prefer IPython Console.\n",
    "* Evaluate file. Write some Python code in the editor (left side), hit F5 and *voilà*. Recommended for writing fully-automated standalone scripts.\n",
    "* Evaluate cells. Write some Python code in the editor and use **#%%** to delimit some portion of codes, called *cells*. Hitting **Crl+Enter** will evaluate the current cell in the IPython console. Very, very useful to build and evaluate your code interactively in a step-by-step fashion."
   ]
  },
  {
   "cell_type": "markdown",
   "metadata": {},
   "source": [
    "## 1.2 Jupyter"
   ]
  },
  {
   "cell_type": "markdown",
   "metadata": {},
   "source": [
    "Usage: in a terminal, go to your working directory and tap **jupyter notebook**. If you are at TPT, it may be something like **/cal/softs/anaconda/anaconda3/jupyter notebook**. That should launch a Jupyter session in your browser, which should display the files of your directory.\n",
    "\n",
    "Use Jupyter to edit a previous notebook (file with extension **ipynb**) or create a new one (*new* in the upper right corner).\n",
    "\n",
    "To learn how to use Jupyter, use the Help! Just in case, a very few tips:\n",
    "- A notebook is made of cells, which are portions of codes / comments\n",
    "    - You use *Markdown* cells to provide formatted text (this the case of the current cell). You can write nice LaTeX formula in Markdown Cells, e.g. $\\int_2^3 x dx =\\frac{5}{2}$.\n",
    "    - *Code* cells are where you write the code you wish to evaluate. You recognize them with the **In [X]** on the left side.\n",
    "    - *Raw* cells are for plain text. They can be very useful, but you won't need them in this course.\n",
    "- Shortcuts are your friends. Go to command mode (**Esc**) and hit **h** to see them.\n",
    "- The interest of Notebooks is that you can evaluate, change part of the code, evaluate again... Try in this tutorial!"
   ]
  },
  {
   "cell_type": "markdown",
   "metadata": {},
   "source": [
    "# 2. Basic usage"
   ]
  },
  {
   "cell_type": "markdown",
   "metadata": {},
   "source": [
    "In most languages, the keyword **end** is used to tell when a loop/condition/definition ends. In Python, there is no **end**. Instead, the ranges are defined according to indentation.\n",
    "\n",
    "For example, compare"
   ]
  },
  {
   "cell_type": "code",
   "execution_count": 1,
   "metadata": {
    "ExecuteTime": {
     "end_time": "2016-10-22T19:46:15.996210",
     "start_time": "2016-10-22T19:46:15.987200"
    },
    "collapsed": false
   },
   "outputs": [
    {
     "name": "stdout",
     "output_type": "stream",
     "text": [
      "x is 0\n",
      "x is 1\n",
      "x is 3\n",
      "x is 6\n",
      "x is 10\n"
     ]
    }
   ],
   "source": [
    "x = 0\n",
    "for i in range(5):\n",
    "    x = x + i\n",
    "    print(\"x is \"+str(x))"
   ]
  },
  {
   "cell_type": "markdown",
   "metadata": {},
   "source": [
    "and"
   ]
  },
  {
   "cell_type": "code",
   "execution_count": 2,
   "metadata": {
    "ExecuteTime": {
     "end_time": "2016-10-22T19:46:16.019231",
     "start_time": "2016-10-22T19:46:15.999212"
    },
    "collapsed": false
   },
   "outputs": [
    {
     "name": "stdout",
     "output_type": "stream",
     "text": [
      "x is 10\n"
     ]
    }
   ],
   "source": [
    "x = 0\n",
    "for i in range(5):\n",
    "    x = x + i\n",
    "print(\"x is \"+str(x))"
   ]
  },
  {
   "cell_type": "markdown",
   "metadata": {},
   "source": [
    "Defining functions is performed with **def**. You can assign default values, which allows highly flexible function calls. For example, look at the following"
   ]
  },
  {
   "cell_type": "code",
   "execution_count": 3,
   "metadata": {
    "ExecuteTime": {
     "end_time": "2016-10-22T19:46:16.038255",
     "start_time": "2016-10-22T19:46:16.022233"
    },
    "collapsed": true
   },
   "outputs": [],
   "source": [
    "def my_division(x = 10,y = 3):\n",
    "    return x/y"
   ]
  },
  {
   "cell_type": "code",
   "execution_count": 4,
   "metadata": {
    "ExecuteTime": {
     "end_time": "2016-10-22T19:46:16.058279",
     "start_time": "2016-10-22T19:46:16.041758"
    },
    "collapsed": false
   },
   "outputs": [
    {
     "name": "stdout",
     "output_type": "stream",
     "text": [
      "3.0\n"
     ]
    }
   ],
   "source": [
    "print(my_division(12,4))"
   ]
  },
  {
   "cell_type": "code",
   "execution_count": 5,
   "metadata": {
    "ExecuteTime": {
     "end_time": "2016-10-22T19:46:16.079297",
     "start_time": "2016-10-22T19:46:16.061281"
    },
    "collapsed": false
   },
   "outputs": [
    {
     "name": "stdout",
     "output_type": "stream",
     "text": [
      "3.3333333333333335\n"
     ]
    }
   ],
   "source": [
    "print(my_division())"
   ]
  },
  {
   "cell_type": "code",
   "execution_count": 6,
   "metadata": {
    "ExecuteTime": {
     "end_time": "2016-10-22T19:46:16.133347",
     "start_time": "2016-10-22T19:46:16.082300"
    },
    "collapsed": false
   },
   "outputs": [
    {
     "name": "stdout",
     "output_type": "stream",
     "text": [
      "4.0\n"
     ]
    }
   ],
   "source": [
    "print(my_division(12))"
   ]
  },
  {
   "cell_type": "code",
   "execution_count": 7,
   "metadata": {
    "ExecuteTime": {
     "end_time": "2016-10-22T19:46:16.162387",
     "start_time": "2016-10-22T19:46:16.138359"
    },
    "collapsed": false
   },
   "outputs": [
    {
     "name": "stdout",
     "output_type": "stream",
     "text": [
      "2.0\n"
     ]
    }
   ],
   "source": [
    "print(my_division(y = 5))"
   ]
  },
  {
   "cell_type": "code",
   "execution_count": 8,
   "metadata": {
    "ExecuteTime": {
     "end_time": "2016-10-22T19:46:16.181405",
     "start_time": "2016-10-22T19:46:16.165390"
    },
    "collapsed": false
   },
   "outputs": [
    {
     "name": "stdout",
     "output_type": "stream",
     "text": [
      "5.0\n"
     ]
    }
   ],
   "source": [
    "print(my_division(y = 2, x = 10))"
   ]
  },
  {
   "cell_type": "markdown",
   "metadata": {},
   "source": [
    "# 3. Modules"
   ]
  },
  {
   "cell_type": "markdown",
   "metadata": {},
   "source": [
    "One of the strength of Python is the vast amount of modules available.\n",
    "The following modules are highly recommended: **numpy** (for a minimum of maths primitives); **matplotlib** (for conveniently displaying the results).\n",
    "A convenient way to load them is to use **%pylab inline**, a *magic command* that loads both modules under the names *np* and *plt* and tells to display the figures inside the notebook (otherwise it may pop-up in a separate window). Once evaluated, its effect lasts for the whole session.\n",
    "A minimal example:"
   ]
  },
  {
   "cell_type": "code",
   "execution_count": 9,
   "metadata": {
    "ExecuteTime": {
     "end_time": "2016-10-22T19:46:16.890141",
     "start_time": "2016-10-22T19:46:16.187409"
    },
    "collapsed": false
   },
   "outputs": [
    {
     "name": "stdout",
     "output_type": "stream",
     "text": [
      "Populating the interactive namespace from numpy and matplotlib\n"
     ]
    }
   ],
   "source": [
    "%pylab inline"
   ]
  },
  {
   "cell_type": "code",
   "execution_count": 10,
   "metadata": {
    "ExecuteTime": {
     "end_time": "2016-10-22T19:46:17.678569",
     "start_time": "2016-10-22T19:46:16.893145"
    },
    "collapsed": false
   },
   "outputs": [
    {
     "data": {
      "image/png": "[encoded data removed]",
      "text/plain": [
       "<matplotlib.figure.Figure at 0x17853d4ec18>"
      ]
     },
     "metadata": {},
     "output_type": "display_data"
    }
   ],
   "source": [
    "x = np.arange(0, 5, .1)\n",
    "plt.plot(x, np.sqrt(x), 'r', label = '$\\sqrt{x}$')\n",
    "plt.plot(x, np.log(x+1), 'g', label = '$\\ln (x+1)$')\n",
    "plt.xlabel('$x$')\n",
    "plt.ylabel('$f(x)$')\n",
    "plt.legend(loc = 4)\n",
    "plt.show()"
   ]
  },
  {
   "cell_type": "markdown",
   "metadata": {},
   "source": [
    "*Remark:* **%pylab inline** also loads **numpy** and **matplotlib** into the main namespace, so you can forget *np* and *plt* if you want (just try to remember that you actually call functions from modules)."
   ]
  },
  {
   "cell_type": "code",
   "execution_count": 11,
   "metadata": {
    "ExecuteTime": {
     "end_time": "2016-10-22T19:46:18.137572",
     "start_time": "2016-10-22T19:46:17.681069"
    },
    "collapsed": false
   },
   "outputs": [
    {
     "data": {
      "image/png": "[encoded data removed]",
      "text/plain": [
       "<matplotlib.figure.Figure at 0x1785473d048>"
      ]
     },
     "metadata": {},
     "output_type": "display_data"
    }
   ],
   "source": [
    "x = arange(0, 5, .1)\n",
    "plot(x, sqrt(x), 'r', label = '$\\sqrt{x}$')\n",
    "plot(x, log(x+1), 'g', label = '$\\ln (x+1)$')\n",
    "xlabel('$x$')\n",
    "ylabel('$f(x)$')\n",
    "legend(loc = 4)\n",
    "show()"
   ]
  },
  {
   "cell_type": "markdown",
   "metadata": {},
   "source": [
    "# 4. A few more tips"
   ]
  },
  {
   "cell_type": "markdown",
   "metadata": {},
   "source": [
    "## 4.1 Import or DIY?"
   ]
  },
  {
   "cell_type": "markdown",
   "metadata": {},
   "source": [
    "Whatever you want to implement, there is probably a module that does all the heavy lifting for you. Must you re-invent the wheel? This is actually a very tricky question. I won't forbid you to use extra modules, but there are things you should ask yourself before making a decision:\n",
    "- Time: Is is faster (for me) to code what I want from scratch or to Google until I find the module (if I am lucky) and then learn how to use it properly.\n",
    "- Bugs: what is the more probable? A bug in my hand-made code or using a module the wrong way (doc badly explained...).\n",
    "- Performance: will the module be faster than a hand-made code? (short answer: yes if the module brings a lot of pre-compiled stuff in the mix; no if the module brings tons of shinny, totally irrelevant, costly, features to your objects).\n",
    "- Evolution: If I foresee a possible evolution im my code, is the evolved version available in the module? Will it be hard to make my code evolve?\n",
    "- Importance: are we talking of the main algorithm that will be used to grade you or of some insignificant sub-sub-subfunction totally unrelated to the course."
   ]
  },
  {
   "cell_type": "markdown",
   "metadata": {},
   "source": [
    "## 4.2 Avoid loops if you can"
   ]
  },
  {
   "cell_type": "markdown",
   "metadata": {},
   "source": [
    "Python is interpreted, not compiled. As a consequence, **for** loops can rapidly become your main bottleneck. Always try to rely on **numpy** arrays if it can avoid loops."
   ]
  },
  {
   "cell_type": "code",
   "execution_count": 12,
   "metadata": {
    "ExecuteTime": {
     "end_time": "2016-10-22T19:46:20.532121",
     "start_time": "2016-10-22T19:46:18.140576"
    },
    "collapsed": false
   },
   "outputs": [
    {
     "name": "stdout",
     "output_type": "stream",
     "text": [
      "FOR loops: 2.365546941757202 s\n",
      "Numpy: 0.014469385147094727 s\n"
     ]
    }
   ],
   "source": [
    "import time\n",
    "n = 1000000\n",
    "t = time.time()\n",
    "x = zeros(n)\n",
    "for i in range(n):\n",
    "    x[i] = sqrt(i)\n",
    "print(\"FOR loops: \"+str(time.time()-t)+\" s\")\n",
    "t = time.time()\n",
    "y = sqrt(arange(n))\n",
    "print(\"Numpy: \"+str(time.time()-t)+\" s\")"
   ]
  },
  {
   "cell_type": "markdown",
   "metadata": {},
   "source": [
    "## 4.3 Reference passing"
   ]
  },
  {
   "cell_type": "markdown",
   "metadata": {},
   "source": [
    "Reference passing can be tricky."
   ]
  },
  {
   "cell_type": "code",
   "execution_count": 13,
   "metadata": {
    "ExecuteTime": {
     "end_time": "2016-10-22T19:46:20.541612",
     "start_time": "2016-10-22T19:46:20.535106"
    },
    "collapsed": false
   },
   "outputs": [
    {
     "name": "stdout",
     "output_type": "stream",
     "text": [
      "True\n"
     ]
    }
   ],
   "source": [
    "A = [1, 2, 3, 4]\n",
    "B = A\n",
    "A[0] = 0\n",
    "print(A==B)"
   ]
  },
  {
   "cell_type": "code",
   "execution_count": 14,
   "metadata": {
    "ExecuteTime": {
     "end_time": "2016-10-22T19:46:20.568636",
     "start_time": "2016-10-22T19:46:20.545615"
    },
    "collapsed": false
   },
   "outputs": [
    {
     "name": "stdout",
     "output_type": "stream",
     "text": [
      "False\n"
     ]
    }
   ],
   "source": [
    "A = [1, 2, 3, 4]\n",
    "B = A.copy()\n",
    "A[0] = 0\n",
    "print(A==B)"
   ]
  }
 ],
 "metadata": {
  "anaconda-cloud": {},
  "kernelspec": {
   "display_name": "Python [conda root]",
   "language": "python",
   "name": "conda-root-py"
  },
  "language_info": {
   "codemirror_mode": {
    "name": "ipython",
    "version": 3
   },
   "file_extension": ".py",
   "mimetype": "text/x-python",
   "name": "python",
   "nbconvert_exporter": "python",
   "pygments_lexer": "ipython3",
   "version": "3.5.2"
  },
  "nav_menu": {
   "height": "264px",
   "width": "424px"
  },
  "toc": {
   "navigate_menu": true,
   "number_sections": false,
   "sideBar": true,
   "threshold": "3",
   "toc_cell": true,
   "toc_section_display": "block",
   "toc_window_display": true
  }
 },
 "nbformat": 4,
 "nbformat_minor": 0
}
